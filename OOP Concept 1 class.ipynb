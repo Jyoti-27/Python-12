{
 "cells": [
  {
   "cell_type": "markdown",
   "metadata": {},
   "source": [
    "\n",
    "- In Python\n",
    " -1.Create a Class\n",
    " -2.Define An Attributes:a) Class Atrributes    b) Instance Attributes\n",
    " -3. Define Methods\n",
    " -4. Create an Instances"
   ]
  },
  {
   "cell_type": "markdown",
   "metadata": {},
   "source": [
    "- Create a Class whose name is Cars\n",
    "- Define the Attributes such as color, cc\n",
    "- Create 2 or 3 instance of the CARS"
   ]
  },
  {
   "cell_type": "code",
   "execution_count": 3,
   "metadata": {},
   "outputs": [
    {
     "name": "stdout",
     "output_type": "stream",
     "text": [
      "1000\n",
      "red\n"
     ]
    },
    {
     "data": {
      "text/plain": [
       "'red'"
      ]
     },
     "execution_count": 3,
     "metadata": {},
     "output_type": "execute_result"
    }
   ],
   "source": [
    "class Cars:  # class is a keyword\n",
    "    \n",
    "    # Create the Atributes\n",
    "    def __init__(self,color,cc):    # init is a constructor and it has double underscore mandetory.\n",
    "        self.color = color      \n",
    "        self.cc = cc\n",
    "    \n",
    "    # Craete the instances of the class Cars\n",
    "car1 = Cars('red',1000)\n",
    "print(car1.cc)\n",
    "print(car1.color)\n",
    "car1.color"
   ]
  },
  {
   "cell_type": "markdown",
   "metadata": {},
   "source": [
    "- Create of class of Humans\n",
    "- Assign to instant variables sex and height\n",
    "- Then create two instance of the class Humans with the namee Male and Female"
   ]
  },
  {
   "cell_type": "code",
   "execution_count": 9,
   "metadata": {},
   "outputs": [
    {
     "name": "stdout",
     "output_type": "stream",
     "text": [
      "Instance 1 male 6\n",
      "Instance 2 female 5.5\n"
     ]
    }
   ],
   "source": [
    "class Humans:  # class is a keyword\n",
    "    \n",
    "    # Create the Atributes\n",
    "    def __init__(self,sex,height):    # init is a constructor and it has double underscore mandetory.\n",
    "        self.sex = sex      \n",
    "        self.height = height\n",
    "    \n",
    "    # Craete the instances of the class Cars\n",
    "h1 = Humans('male',6)\n",
    "h2 = Humans('female',5.5)\n",
    "print(\"Instance 1\",h1.sex,h1.height)\n",
    "print(\"Instance 2\",h2.sex,h2.height)"
   ]
  },
  {
   "cell_type": "code",
   "execution_count": 12,
   "metadata": {},
   "outputs": [
    {
     "name": "stdout",
     "output_type": "stream",
     "text": [
      "male\n",
      "6\n",
      "female\n",
      "5.5\n"
     ]
    }
   ],
   "source": [
    "class Humans:  # class is a keyword\n",
    "    \n",
    "    # Create the Atributes\n",
    "    def __init__(self,sex,height):    # init is a constructor and it has double underscore mandetory.\n",
    "        self.sex = sex      \n",
    "        self.height = height\n",
    "    \n",
    "    # Craete the instances of the class Cars\n",
    "hmn = Humans('male','6')\n",
    "print(hmn.sex)\n",
    "print(hmn.height)\n",
    "hmnf = Humans('female','5.5')\n",
    "print(hmnf.sex)\n",
    "print(hmnf.height)"
   ]
  },
  {
   "cell_type": "code",
   "execution_count": null,
   "metadata": {},
   "outputs": [],
   "source": []
  },
  {
   "cell_type": "code",
   "execution_count": null,
   "metadata": {},
   "outputs": [],
   "source": []
  },
  {
   "cell_type": "code",
   "execution_count": null,
   "metadata": {},
   "outputs": [],
   "source": []
  },
  {
   "cell_type": "code",
   "execution_count": null,
   "metadata": {},
   "outputs": [],
   "source": []
  }
 ],
 "metadata": {
  "kernelspec": {
   "display_name": "Python 3",
   "language": "python",
   "name": "python3"
  },
  "language_info": {
   "codemirror_mode": {
    "name": "ipython",
    "version": 3
   },
   "file_extension": ".py",
   "mimetype": "text/x-python",
   "name": "python",
   "nbconvert_exporter": "python",
   "pygments_lexer": "ipython3",
   "version": "3.7.6"
  }
 },
 "nbformat": 4,
 "nbformat_minor": 4
}
